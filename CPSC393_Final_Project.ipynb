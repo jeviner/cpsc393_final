{
 "cells": [
  {
   "cell_type": "code",
   "execution_count": 75,
   "metadata": {
    "colab": {
     "base_uri": "https://localhost:8080/",
     "height": 300
    },
    "id": "IFvZ5whh4qXB",
    "outputId": "a22277f9-d890-46c8-e009-939dfd11bf38"
   },
   "outputs": [],
   "source": [
    "# Imports\n",
    "import warnings\n",
    "warnings.filterwarnings('ignore')\n",
    "\n",
    "import pandas as pd\n",
    "import numpy as np\n",
    "import seaborn as sn\n",
    "from tensorflow.keras.models import Sequential\n",
    "from tensorflow.keras.layers import Dense, Flatten\n",
    "from tensorflow.keras.layers import MaxPooling2D\n",
    "from tensorflow.keras.layers import Conv2D\n",
    "from tensorflow.keras.layers import Dropout\n",
    "from tensorflow.keras.constraints import max_norm\n",
    "from tensorflow.keras.optimizers import Adam\n",
    "from tensorflow.keras.utils import to_categorical\n",
    "from sklearn.metrics import confusion_matrix, plot_confusion_matrix\n",
    "import matplotlib.pyplot as plt\n",
    "from keras import backend as K"
   ]
  },
  {
   "cell_type": "code",
   "execution_count": 2,
   "metadata": {
    "colab": {
     "base_uri": "https://localhost:8080/"
    },
    "id": "URCJnkyyVvNT",
    "outputId": "8cb10ac8-7efb-4118-e6a7-39f3787f9237"
   },
   "outputs": [
    {
     "name": "stdout",
     "output_type": "stream",
     "text": [
      "# Normal Images: 365\n",
      "# Pothole Images: 1301\n",
      "# Total Images: 1666\n"
     ]
    }
   ],
   "source": [
    "# Load data\n",
    "data = np.load(\"data.npz\")\n",
    "X = data[\"arr_0\"]\n",
    "Y = data[\"arr_1\"]\n",
    "print(\"# Normal Images:\", len(Y[np.where(Y == 0)]))\n",
    "print(\"# Pothole Images:\", len(Y[np.where(Y == 1)]))\n",
    "print(\"# Total Images:\", len(Y))"
   ]
  },
  {
   "cell_type": "code",
   "execution_count": 32,
   "metadata": {
    "colab": {
     "base_uri": "https://localhost:8080/"
    },
    "id": "5K3nHL6YV2WP",
    "outputId": "35f06904-002c-46a3-9142-ac3b51b4baf8"
   },
   "outputs": [
    {
     "name": "stdout",
     "output_type": "stream",
     "text": [
      "Total data: (1666, 64, 64, 3)\n",
      "Train shape: (1167, 64, 64, 3)\n",
      "Test shape: (499, 64, 64, 3)\n"
     ]
    }
   ],
   "source": [
    "# Perform train-test split\n",
    "# https://stackoverflow.com/questions/4601373/better-way-to-shuffle-two-numpy-arrays-in-unison\n",
    "# https://stackoverflow.com/questions/3674409/how-to-split-partition-a-dataset-into-training-and-test-datasets-for-e-g-cros\n",
    "def shuffle(a, b):\n",
    "  assert len(a) == len(b)\n",
    "  p = np.random.permutation(len(a))\n",
    "  return a[p], b[p]\n",
    "\n",
    "def train_test_split(X, Y, test_prop):\n",
    "  X, Y = shuffle(X, Y)\n",
    "  split_index = int(test_prop * len(X))\n",
    "  X_train = X[split_index:]\n",
    "  Y_train = Y[split_index:]\n",
    "  X_test = X[:split_index]\n",
    "  Y_test = Y[:split_index]\n",
    "  return X_train, Y_train, X_test, Y_test\n",
    "\n",
    "X_train, Y_train, X_test, Y_test = train_test_split(X, Y, 0.3)\n",
    "print(\"Total data:\", X.shape)\n",
    "print(\"Train shape:\", X_train.shape)\n",
    "print(\"Test shape:\", X_test.shape)"
   ]
  },
  {
   "cell_type": "code",
   "execution_count": 33,
   "metadata": {
    "colab": {
     "base_uri": "https://localhost:8080/",
     "height": 243
    },
    "id": "z3ErdQ3nV32l",
    "outputId": "9c104977-996d-48f1-f11f-c8b6f8a72ed0"
   },
   "outputs": [
    {
     "data": {
      "image/png": "[encoded data removed]",
      "text/plain": [
       "<Figure size 1440x720 with 2 Axes>"
      ]
     },
     "metadata": {},
     "output_type": "display_data"
    }
   ],
   "source": [
    "# Display sample images\n",
    "class_names = [\"Normal\", \"Pothole\"]\n",
    "fig = plt.figure(figsize=(20,10))\n",
    "for i in range(len(class_names)):\n",
    "  ax = fig.add_subplot(2, 5, 1 + i, xticks=[], yticks=[])\n",
    "  idx = np.where(Y_train[:]==i)[0]\n",
    "  features_idx = X_train[idx,::]\n",
    "  img_num = np.random.randint(features_idx.shape[0])\n",
    "  im = features_idx[img_num,::]\n",
    "  ax.set_title(class_names[i])\n",
    "  plt.imshow(im)\n",
    "plt.show()"
   ]
  },
  {
   "cell_type": "code",
   "execution_count": 34,
   "metadata": {},
   "outputs": [],
   "source": [
    "# Loss functions\n",
    "def recall_m(y_true, y_pred):\n",
    "    true_positives = K.sum(K.round(K.clip(y_true * y_pred, 0, 1)))\n",
    "    possible_positives = K.sum(K.round(K.clip(y_true, 0, 1)))\n",
    "    recall = true_positives / (possible_positives + K.epsilon())\n",
    "    return recall\n",
    "\n",
    "def precision_m(y_true, y_pred):\n",
    "    true_positives = K.sum(K.round(K.clip(y_true * y_pred, 0, 1)))\n",
    "    predicted_positives = K.sum(K.round(K.clip(y_pred, 0, 1)))\n",
    "    precision = true_positives / (predicted_positives + K.epsilon())\n",
    "    return precision\n",
    "\n",
    "def f1_m(y_true, y_pred):\n",
    "    precision = precision_m(y_true, y_pred)\n",
    "    recall = recall_m(y_true, y_pred)\n",
    "    return 2*((precision*recall)/(precision+recall+K.epsilon()))"
   ]
  },
  {
   "cell_type": "code",
   "execution_count": 38,
   "metadata": {
    "id": "NC0OBQ5y5_zM"
   },
   "outputs": [],
   "source": [
    "# Set hyperparameters\n",
    "# Probably don't change these\n",
    "input_width = 64\n",
    "input_height = 64\n",
    "input_depth = 3\n",
    "\n",
    "num_epochs = 100\n",
    "batch_size = 128\n",
    "learning_rate = 0.0005\n",
    "dropout_rate = 0.25 # This is multiplied by 2 at some point so should be <0.5 or change the usage"
   ]
  },
  {
   "cell_type": "code",
   "execution_count": 39,
   "metadata": {
    "colab": {
     "base_uri": "https://localhost:8080/"
    },
    "id": "DpiBym2x7ABt",
    "outputId": "e6778899-16d9-40d4-a7d3-0eaecdb6f905"
   },
   "outputs": [
    {
     "name": "stdout",
     "output_type": "stream",
     "text": [
      "Epoch 1/100\n"
     ]
    },
    {
     "name": "stderr",
     "output_type": "stream",
     "text": [
      "2022-04-30 13:50:06.322732: I tensorflow/core/grappler/optimizers/custom_graph_optimizer_registry.cc:113] Plugin optimizer for device_type GPU is enabled.\n",
      "2022-04-30 13:50:07.632881: I tensorflow/core/grappler/optimizers/custom_graph_optimizer_registry.cc:113] Plugin optimizer for device_type GPU is enabled.\n"
     ]
    },
    {
     "name": "stdout",
     "output_type": "stream",
     "text": [
      "10/10 - 3s - loss: 141.2120 - accuracy: 0.6247 - f1_m: 0.6284 - precision_m: 0.6284 - recall_m: 0.6284 - val_loss: 62.7565 - val_accuracy: 0.7996 - val_f1_m: 0.7981 - val_precision_m: 0.7981 - val_recall_m: 0.7981 - 3s/epoch - 338ms/step\n",
      "Epoch 2/100\n",
      "10/10 - 1s - loss: 32.7784 - accuracy: 0.6727 - f1_m: 0.6662 - precision_m: 0.6662 - recall_m: 0.6662 - val_loss: 1.9955 - val_accuracy: 0.8838 - val_f1_m: 0.8841 - val_precision_m: 0.8841 - val_recall_m: 0.8841 - 866ms/epoch - 87ms/step\n",
      "Epoch 3/100\n",
      "10/10 - 1s - loss: 4.6501 - accuracy: 0.8072 - f1_m: 0.7889 - precision_m: 0.7889 - recall_m: 0.7889 - val_loss: 0.8227 - val_accuracy: 0.8918 - val_f1_m: 0.8921 - val_precision_m: 0.8921 - val_recall_m: 0.8921 - 825ms/epoch - 83ms/step\n",
      "Epoch 4/100\n",
      "10/10 - 1s - loss: 0.8441 - accuracy: 0.8132 - f1_m: 0.8179 - precision_m: 0.8179 - recall_m: 0.8179 - val_loss: 0.2932 - val_accuracy: 0.8858 - val_f1_m: 0.8862 - val_precision_m: 0.8862 - val_recall_m: 0.8862 - 874ms/epoch - 87ms/step\n",
      "Epoch 5/100\n",
      "10/10 - 1s - loss: 0.4198 - accuracy: 0.8235 - f1_m: 0.8332 - precision_m: 0.8332 - recall_m: 0.8332 - val_loss: 0.3514 - val_accuracy: 0.8317 - val_f1_m: 0.8304 - val_precision_m: 0.8304 - val_recall_m: 0.8304 - 857ms/epoch - 86ms/step\n",
      "Epoch 6/100\n",
      "10/10 - 1s - loss: 0.3755 - accuracy: 0.7935 - f1_m: 0.7882 - precision_m: 0.7882 - recall_m: 0.7882 - val_loss: 0.2940 - val_accuracy: 0.8417 - val_f1_m: 0.8406 - val_precision_m: 0.8406 - val_recall_m: 0.8406 - 810ms/epoch - 81ms/step\n",
      "Epoch 7/100\n",
      "10/10 - 1s - loss: 0.3385 - accuracy: 0.8226 - f1_m: 0.8206 - precision_m: 0.8206 - recall_m: 0.8206 - val_loss: 0.2547 - val_accuracy: 0.9158 - val_f1_m: 0.9160 - val_precision_m: 0.9160 - val_recall_m: 0.9160 - 840ms/epoch - 84ms/step\n",
      "Epoch 8/100\n",
      "10/10 - 1s - loss: 0.3065 - accuracy: 0.8638 - f1_m: 0.8758 - precision_m: 0.8758 - recall_m: 0.8758 - val_loss: 0.2078 - val_accuracy: 0.9259 - val_f1_m: 0.9257 - val_precision_m: 0.9257 - val_recall_m: 0.9257 - 760ms/epoch - 76ms/step\n",
      "Epoch 9/100\n",
      "10/10 - 1s - loss: 0.2703 - accuracy: 0.8638 - f1_m: 0.8640 - precision_m: 0.8640 - recall_m: 0.8640 - val_loss: 0.1917 - val_accuracy: 0.9259 - val_f1_m: 0.9260 - val_precision_m: 0.9260 - val_recall_m: 0.9260 - 816ms/epoch - 82ms/step\n",
      "Epoch 10/100\n",
      "10/10 - 1s - loss: 0.2592 - accuracy: 0.8869 - f1_m: 0.8792 - precision_m: 0.8792 - recall_m: 0.8792 - val_loss: 0.1882 - val_accuracy: 0.9299 - val_f1_m: 0.9301 - val_precision_m: 0.9301 - val_recall_m: 0.9301 - 829ms/epoch - 83ms/step\n",
      "Epoch 11/100\n",
      "10/10 - 1s - loss: 0.2491 - accuracy: 0.9015 - f1_m: 0.9043 - precision_m: 0.9043 - recall_m: 0.9043 - val_loss: 0.1913 - val_accuracy: 0.9238 - val_f1_m: 0.9242 - val_precision_m: 0.9242 - val_recall_m: 0.9242 - 845ms/epoch - 84ms/step\n",
      "Epoch 12/100\n",
      "10/10 - 1s - loss: 0.2472 - accuracy: 0.8920 - f1_m: 0.8898 - precision_m: 0.8898 - recall_m: 0.8898 - val_loss: 0.1744 - val_accuracy: 0.9299 - val_f1_m: 0.9301 - val_precision_m: 0.9301 - val_recall_m: 0.9301 - 827ms/epoch - 83ms/step\n",
      "Epoch 13/100\n",
      "10/10 - 1s - loss: 0.2224 - accuracy: 0.8817 - f1_m: 0.8863 - precision_m: 0.8863 - recall_m: 0.8863 - val_loss: 0.1675 - val_accuracy: 0.9299 - val_f1_m: 0.9297 - val_precision_m: 0.9297 - val_recall_m: 0.9297 - 850ms/epoch - 85ms/step\n",
      "Epoch 14/100\n",
      "10/10 - 1s - loss: 0.1986 - accuracy: 0.9032 - f1_m: 0.9117 - precision_m: 0.9117 - recall_m: 0.9117 - val_loss: 0.1765 - val_accuracy: 0.9319 - val_f1_m: 0.9325 - val_precision_m: 0.9325 - val_recall_m: 0.9325 - 785ms/epoch - 79ms/step\n",
      "Epoch 15/100\n",
      "10/10 - 1s - loss: 0.1971 - accuracy: 0.9075 - f1_m: 0.9097 - precision_m: 0.9097 - recall_m: 0.9097 - val_loss: 0.1865 - val_accuracy: 0.9319 - val_f1_m: 0.9323 - val_precision_m: 0.9323 - val_recall_m: 0.9323 - 844ms/epoch - 84ms/step\n",
      "Epoch 16/100\n",
      "10/10 - 1s - loss: 0.1913 - accuracy: 0.9032 - f1_m: 0.8999 - precision_m: 0.8999 - recall_m: 0.8999 - val_loss: 0.1743 - val_accuracy: 0.9299 - val_f1_m: 0.9305 - val_precision_m: 0.9305 - val_recall_m: 0.9305 - 802ms/epoch - 80ms/step\n",
      "Epoch 17/100\n",
      "10/10 - 1s - loss: 0.1621 - accuracy: 0.9160 - f1_m: 0.9176 - precision_m: 0.9176 - recall_m: 0.9176 - val_loss: 0.1901 - val_accuracy: 0.9319 - val_f1_m: 0.9318 - val_precision_m: 0.9318 - val_recall_m: 0.9318 - 818ms/epoch - 82ms/step\n",
      "Epoch 18/100\n",
      "10/10 - 1s - loss: 0.1656 - accuracy: 0.9135 - f1_m: 0.9152 - precision_m: 0.9152 - recall_m: 0.9152 - val_loss: 0.1848 - val_accuracy: 0.9339 - val_f1_m: 0.9340 - val_precision_m: 0.9340 - val_recall_m: 0.9340 - 826ms/epoch - 83ms/step\n",
      "Epoch 19/100\n",
      "10/10 - 1s - loss: 0.1545 - accuracy: 0.9186 - f1_m: 0.9199 - precision_m: 0.9199 - recall_m: 0.9199 - val_loss: 0.1641 - val_accuracy: 0.9339 - val_f1_m: 0.9344 - val_precision_m: 0.9344 - val_recall_m: 0.9344 - 791ms/epoch - 79ms/step\n",
      "Epoch 20/100\n",
      "10/10 - 1s - loss: 0.1574 - accuracy: 0.9160 - f1_m: 0.9117 - precision_m: 0.9117 - recall_m: 0.9117 - val_loss: 0.1878 - val_accuracy: 0.9279 - val_f1_m: 0.9281 - val_precision_m: 0.9281 - val_recall_m: 0.9281 - 821ms/epoch - 82ms/step\n",
      "Epoch 21/100\n",
      "10/10 - 1s - loss: 0.1437 - accuracy: 0.9297 - f1_m: 0.9359 - precision_m: 0.9359 - recall_m: 0.9359 - val_loss: 0.1611 - val_accuracy: 0.9339 - val_f1_m: 0.9344 - val_precision_m: 0.9344 - val_recall_m: 0.9344 - 771ms/epoch - 77ms/step\n",
      "Epoch 22/100\n",
      "10/10 - 1s - loss: 0.1501 - accuracy: 0.9203 - f1_m: 0.9273 - precision_m: 0.9273 - recall_m: 0.9273 - val_loss: 0.1859 - val_accuracy: 0.9319 - val_f1_m: 0.9318 - val_precision_m: 0.9318 - val_recall_m: 0.9318 - 781ms/epoch - 78ms/step\n",
      "Epoch 23/100\n",
      "10/10 - 1s - loss: 0.1328 - accuracy: 0.9203 - f1_m: 0.9215 - precision_m: 0.9215 - recall_m: 0.9215 - val_loss: 0.1763 - val_accuracy: 0.9319 - val_f1_m: 0.9323 - val_precision_m: 0.9323 - val_recall_m: 0.9323 - 791ms/epoch - 79ms/step\n",
      "Epoch 24/100\n",
      "10/10 - 1s - loss: 0.1309 - accuracy: 0.9254 - f1_m: 0.9203 - precision_m: 0.9203 - recall_m: 0.9203 - val_loss: 0.2080 - val_accuracy: 0.9299 - val_f1_m: 0.9299 - val_precision_m: 0.9299 - val_recall_m: 0.9299 - 765ms/epoch - 76ms/step\n",
      "Epoch 25/100\n",
      "10/10 - 1s - loss: 0.1262 - accuracy: 0.9272 - f1_m: 0.9277 - precision_m: 0.9277 - recall_m: 0.9277 - val_loss: 0.1947 - val_accuracy: 0.9319 - val_f1_m: 0.9320 - val_precision_m: 0.9320 - val_recall_m: 0.9320 - 826ms/epoch - 83ms/step\n",
      "Epoch 26/100\n",
      "10/10 - 1s - loss: 0.1095 - accuracy: 0.9366 - f1_m: 0.9363 - precision_m: 0.9363 - recall_m: 0.9363 - val_loss: 0.2023 - val_accuracy: 0.9339 - val_f1_m: 0.9342 - val_precision_m: 0.9342 - val_recall_m: 0.9342 - 846ms/epoch - 85ms/step\n",
      "Epoch 27/100\n",
      "10/10 - 1s - loss: 0.1288 - accuracy: 0.9237 - f1_m: 0.9246 - precision_m: 0.9246 - recall_m: 0.9246 - val_loss: 0.1651 - val_accuracy: 0.9379 - val_f1_m: 0.9381 - val_precision_m: 0.9381 - val_recall_m: 0.9381 - 776ms/epoch - 78ms/step\n",
      "Epoch 28/100\n",
      "10/10 - 1s - loss: 0.1181 - accuracy: 0.9306 - f1_m: 0.9308 - precision_m: 0.9308 - recall_m: 0.9308 - val_loss: 0.1629 - val_accuracy: 0.9439 - val_f1_m: 0.9440 - val_precision_m: 0.9440 - val_recall_m: 0.9440 - 813ms/epoch - 81ms/step\n",
      "Epoch 29/100\n",
      "10/10 - 1s - loss: 0.1108 - accuracy: 0.9263 - f1_m: 0.9093 - precision_m: 0.9093 - recall_m: 0.9093 - val_loss: 0.1952 - val_accuracy: 0.9379 - val_f1_m: 0.9379 - val_precision_m: 0.9379 - val_recall_m: 0.9379 - 683ms/epoch - 68ms/step\n",
      "Epoch 30/100\n",
      "10/10 - 1s - loss: 0.1326 - accuracy: 0.9246 - f1_m: 0.9136 - precision_m: 0.9136 - recall_m: 0.9136 - val_loss: 0.1845 - val_accuracy: 0.9238 - val_f1_m: 0.9245 - val_precision_m: 0.9245 - val_recall_m: 0.9245 - 794ms/epoch - 79ms/step\n",
      "Epoch 31/100\n",
      "10/10 - 1s - loss: 0.1244 - accuracy: 0.9289 - f1_m: 0.9293 - precision_m: 0.9293 - recall_m: 0.9293 - val_loss: 0.2557 - val_accuracy: 0.9299 - val_f1_m: 0.9303 - val_precision_m: 0.9303 - val_recall_m: 0.9303 - 900ms/epoch - 90ms/step\n",
      "Epoch 32/100\n",
      "10/10 - 1s - loss: 0.1190 - accuracy: 0.9280 - f1_m: 0.9344 - precision_m: 0.9344 - recall_m: 0.9344 - val_loss: 0.1899 - val_accuracy: 0.9238 - val_f1_m: 0.9242 - val_precision_m: 0.9242 - val_recall_m: 0.9242 - 970ms/epoch - 97ms/step\n",
      "Epoch 33/100\n",
      "10/10 - 1s - loss: 0.1044 - accuracy: 0.9289 - f1_m: 0.9293 - precision_m: 0.9293 - recall_m: 0.9293 - val_loss: 0.1941 - val_accuracy: 0.9419 - val_f1_m: 0.9420 - val_precision_m: 0.9420 - val_recall_m: 0.9420 - 887ms/epoch - 89ms/step\n"
     ]
    },
    {
     "name": "stdout",
     "output_type": "stream",
     "text": [
      "Epoch 34/100\n",
      "10/10 - 1s - loss: 0.1025 - accuracy: 0.9306 - f1_m: 0.9367 - precision_m: 0.9367 - recall_m: 0.9367 - val_loss: 0.2029 - val_accuracy: 0.9399 - val_f1_m: 0.9401 - val_precision_m: 0.9401 - val_recall_m: 0.9401 - 866ms/epoch - 87ms/step\n",
      "Epoch 35/100\n",
      "10/10 - 1s - loss: 0.1039 - accuracy: 0.9254 - f1_m: 0.9261 - precision_m: 0.9261 - recall_m: 0.9261 - val_loss: 0.2130 - val_accuracy: 0.9379 - val_f1_m: 0.9381 - val_precision_m: 0.9381 - val_recall_m: 0.9381 - 862ms/epoch - 86ms/step\n",
      "Epoch 36/100\n",
      "10/10 - 1s - loss: 0.1000 - accuracy: 0.9280 - f1_m: 0.9344 - precision_m: 0.9344 - recall_m: 0.9344 - val_loss: 0.2200 - val_accuracy: 0.9379 - val_f1_m: 0.9381 - val_precision_m: 0.9381 - val_recall_m: 0.9381 - 872ms/epoch - 87ms/step\n",
      "Epoch 37/100\n",
      "10/10 - 1s - loss: 0.0949 - accuracy: 0.9340 - f1_m: 0.9340 - precision_m: 0.9340 - recall_m: 0.9340 - val_loss: 0.2151 - val_accuracy: 0.9379 - val_f1_m: 0.9381 - val_precision_m: 0.9381 - val_recall_m: 0.9381 - 863ms/epoch - 86ms/step\n",
      "Epoch 38/100\n",
      "10/10 - 1s - loss: 0.1042 - accuracy: 0.9212 - f1_m: 0.9281 - precision_m: 0.9281 - recall_m: 0.9281 - val_loss: 0.1967 - val_accuracy: 0.9339 - val_f1_m: 0.9342 - val_precision_m: 0.9342 - val_recall_m: 0.9342 - 797ms/epoch - 80ms/step\n",
      "Epoch 39/100\n",
      "10/10 - 1s - loss: 0.0963 - accuracy: 0.9323 - f1_m: 0.9383 - precision_m: 0.9383 - recall_m: 0.9383 - val_loss: 0.2233 - val_accuracy: 0.9379 - val_f1_m: 0.9383 - val_precision_m: 0.9383 - val_recall_m: 0.9383 - 794ms/epoch - 79ms/step\n",
      "Epoch 40/100\n",
      "10/10 - 1s - loss: 0.0866 - accuracy: 0.9443 - f1_m: 0.9433 - precision_m: 0.9433 - recall_m: 0.9433 - val_loss: 0.2722 - val_accuracy: 0.9399 - val_f1_m: 0.9401 - val_precision_m: 0.9401 - val_recall_m: 0.9401 - 820ms/epoch - 82ms/step\n",
      "Epoch 41/100\n",
      "10/10 - 1s - loss: 0.0879 - accuracy: 0.9366 - f1_m: 0.9363 - precision_m: 0.9363 - recall_m: 0.9363 - val_loss: 0.2430 - val_accuracy: 0.9319 - val_f1_m: 0.9325 - val_precision_m: 0.9325 - val_recall_m: 0.9325 - 765ms/epoch - 76ms/step\n",
      "Epoch 42/100\n",
      "10/10 - 1s - loss: 0.0834 - accuracy: 0.9400 - f1_m: 0.9453 - precision_m: 0.9453 - recall_m: 0.9453 - val_loss: 0.2466 - val_accuracy: 0.9259 - val_f1_m: 0.9264 - val_precision_m: 0.9264 - val_recall_m: 0.9264 - 807ms/epoch - 81ms/step\n",
      "Epoch 43/100\n",
      "10/10 - 1s - loss: 0.0800 - accuracy: 0.9443 - f1_m: 0.9374 - precision_m: 0.9374 - recall_m: 0.9374 - val_loss: 0.2645 - val_accuracy: 0.9339 - val_f1_m: 0.9344 - val_precision_m: 0.9344 - val_recall_m: 0.9344 - 757ms/epoch - 76ms/step\n",
      "Epoch 44/100\n",
      "10/10 - 1s - loss: 0.0928 - accuracy: 0.9409 - f1_m: 0.9461 - precision_m: 0.9461 - recall_m: 0.9461 - val_loss: 0.2684 - val_accuracy: 0.9359 - val_f1_m: 0.9362 - val_precision_m: 0.9362 - val_recall_m: 0.9362 - 811ms/epoch - 81ms/step\n",
      "Epoch 45/100\n",
      "10/10 - 1s - loss: 0.0837 - accuracy: 0.9452 - f1_m: 0.9382 - precision_m: 0.9382 - recall_m: 0.9382 - val_loss: 0.2535 - val_accuracy: 0.9319 - val_f1_m: 0.9325 - val_precision_m: 0.9325 - val_recall_m: 0.9325 - 846ms/epoch - 85ms/step\n",
      "Epoch 46/100\n",
      "10/10 - 1s - loss: 0.0881 - accuracy: 0.9357 - f1_m: 0.9414 - precision_m: 0.9414 - recall_m: 0.9414 - val_loss: 0.2459 - val_accuracy: 0.9299 - val_f1_m: 0.9303 - val_precision_m: 0.9303 - val_recall_m: 0.9303 - 785ms/epoch - 78ms/step\n",
      "Epoch 47/100\n",
      "10/10 - 1s - loss: 0.0791 - accuracy: 0.9426 - f1_m: 0.9477 - precision_m: 0.9477 - recall_m: 0.9477 - val_loss: 0.2812 - val_accuracy: 0.9299 - val_f1_m: 0.9305 - val_precision_m: 0.9305 - val_recall_m: 0.9305 - 806ms/epoch - 81ms/step\n",
      "Epoch 48/100\n",
      "10/10 - 1s - loss: 0.0755 - accuracy: 0.9392 - f1_m: 0.9445 - precision_m: 0.9445 - recall_m: 0.9445 - val_loss: 0.2754 - val_accuracy: 0.9299 - val_f1_m: 0.9303 - val_precision_m: 0.9303 - val_recall_m: 0.9303 - 803ms/epoch - 80ms/step\n",
      "Epoch 49/100\n",
      "10/10 - 1s - loss: 0.0839 - accuracy: 0.9340 - f1_m: 0.9398 - precision_m: 0.9398 - recall_m: 0.9398 - val_loss: 0.2428 - val_accuracy: 0.9299 - val_f1_m: 0.9301 - val_precision_m: 0.9301 - val_recall_m: 0.9301 - 767ms/epoch - 77ms/step\n",
      "Epoch 50/100\n",
      "10/10 - 1s - loss: 0.0796 - accuracy: 0.9340 - f1_m: 0.9398 - precision_m: 0.9398 - recall_m: 0.9398 - val_loss: 0.2664 - val_accuracy: 0.9259 - val_f1_m: 0.9262 - val_precision_m: 0.9262 - val_recall_m: 0.9262 - 801ms/epoch - 80ms/step\n",
      "Epoch 51/100\n",
      "10/10 - 1s - loss: 0.0694 - accuracy: 0.9409 - f1_m: 0.9343 - precision_m: 0.9343 - recall_m: 0.9343 - val_loss: 0.2277 - val_accuracy: 0.9259 - val_f1_m: 0.9264 - val_precision_m: 0.9264 - val_recall_m: 0.9264 - 785ms/epoch - 79ms/step\n",
      "Epoch 52/100\n",
      "10/10 - 1s - loss: 0.0813 - accuracy: 0.9374 - f1_m: 0.9371 - precision_m: 0.9371 - recall_m: 0.9371 - val_loss: 0.2313 - val_accuracy: 0.9339 - val_f1_m: 0.9342 - val_precision_m: 0.9342 - val_recall_m: 0.9342 - 870ms/epoch - 87ms/step\n",
      "Epoch 53/100\n",
      "10/10 - 1s - loss: 0.0885 - accuracy: 0.9323 - f1_m: 0.9265 - precision_m: 0.9265 - recall_m: 0.9265 - val_loss: 0.2580 - val_accuracy: 0.9238 - val_f1_m: 0.9245 - val_precision_m: 0.9245 - val_recall_m: 0.9245 - 829ms/epoch - 83ms/step\n",
      "Epoch 54/100\n",
      "10/10 - 1s - loss: 0.0879 - accuracy: 0.9332 - f1_m: 0.9273 - precision_m: 0.9273 - recall_m: 0.9273 - val_loss: 0.2094 - val_accuracy: 0.9279 - val_f1_m: 0.9281 - val_precision_m: 0.9281 - val_recall_m: 0.9281 - 821ms/epoch - 82ms/step\n",
      "Epoch 55/100\n",
      "10/10 - 1s - loss: 0.0877 - accuracy: 0.9332 - f1_m: 0.9391 - precision_m: 0.9391 - recall_m: 0.9391 - val_loss: 0.2312 - val_accuracy: 0.9379 - val_f1_m: 0.9381 - val_precision_m: 0.9381 - val_recall_m: 0.9381 - 824ms/epoch - 82ms/step\n",
      "Epoch 56/100\n",
      "10/10 - 1s - loss: 0.0755 - accuracy: 0.9426 - f1_m: 0.9418 - precision_m: 0.9418 - recall_m: 0.9418 - val_loss: 0.2875 - val_accuracy: 0.9379 - val_f1_m: 0.9381 - val_precision_m: 0.9381 - val_recall_m: 0.9381 - 823ms/epoch - 82ms/step\n",
      "Epoch 57/100\n",
      "10/10 - 1s - loss: 0.0739 - accuracy: 0.9272 - f1_m: 0.9277 - precision_m: 0.9277 - recall_m: 0.9277 - val_loss: 0.2390 - val_accuracy: 0.9299 - val_f1_m: 0.9303 - val_precision_m: 0.9303 - val_recall_m: 0.9303 - 855ms/epoch - 86ms/step\n",
      "Epoch 58/100\n",
      "10/10 - 1s - loss: 0.0729 - accuracy: 0.9314 - f1_m: 0.9375 - precision_m: 0.9375 - recall_m: 0.9375 - val_loss: 0.2714 - val_accuracy: 0.9419 - val_f1_m: 0.9420 - val_precision_m: 0.9420 - val_recall_m: 0.9420 - 767ms/epoch - 77ms/step\n",
      "Epoch 59/100\n",
      "10/10 - 1s - loss: 0.0626 - accuracy: 0.9546 - f1_m: 0.9586 - precision_m: 0.9586 - recall_m: 0.9586 - val_loss: 0.2579 - val_accuracy: 0.9279 - val_f1_m: 0.9284 - val_precision_m: 0.9284 - val_recall_m: 0.9284 - 804ms/epoch - 80ms/step\n",
      "Epoch 60/100\n",
      "10/10 - 1s - loss: 0.0698 - accuracy: 0.9700 - f1_m: 0.9727 - precision_m: 0.9727 - recall_m: 0.9727 - val_loss: 0.2606 - val_accuracy: 0.9279 - val_f1_m: 0.9281 - val_precision_m: 0.9281 - val_recall_m: 0.9281 - 803ms/epoch - 80ms/step\n",
      "Epoch 61/100\n",
      "10/10 - 1s - loss: 0.0754 - accuracy: 0.9692 - f1_m: 0.9719 - precision_m: 0.9719 - recall_m: 0.9719 - val_loss: 0.3422 - val_accuracy: 0.9379 - val_f1_m: 0.9381 - val_precision_m: 0.9381 - val_recall_m: 0.9381 - 865ms/epoch - 86ms/step\n",
      "Epoch 62/100\n",
      "10/10 - 1s - loss: 0.0705 - accuracy: 0.9666 - f1_m: 0.9695 - precision_m: 0.9695 - recall_m: 0.9695 - val_loss: 0.2128 - val_accuracy: 0.9319 - val_f1_m: 0.9323 - val_precision_m: 0.9323 - val_recall_m: 0.9323 - 788ms/epoch - 79ms/step\n",
      "Epoch 63/100\n",
      "10/10 - 1s - loss: 0.0691 - accuracy: 0.9734 - f1_m: 0.9699 - precision_m: 0.9699 - recall_m: 0.9699 - val_loss: 0.2765 - val_accuracy: 0.9319 - val_f1_m: 0.9323 - val_precision_m: 0.9323 - val_recall_m: 0.9323 - 799ms/epoch - 80ms/step\n",
      "Epoch 64/100\n",
      "10/10 - 1s - loss: 0.0767 - accuracy: 0.9657 - f1_m: 0.9688 - precision_m: 0.9688 - recall_m: 0.9688 - val_loss: 0.2423 - val_accuracy: 0.9279 - val_f1_m: 0.9284 - val_precision_m: 0.9284 - val_recall_m: 0.9284 - 828ms/epoch - 83ms/step\n",
      "Epoch 65/100\n",
      "10/10 - 1s - loss: 0.0731 - accuracy: 0.9614 - f1_m: 0.9648 - precision_m: 0.9648 - recall_m: 0.9648 - val_loss: 0.2310 - val_accuracy: 0.9379 - val_f1_m: 0.9381 - val_precision_m: 0.9381 - val_recall_m: 0.9381 - 845ms/epoch - 85ms/step\n",
      "Epoch 66/100\n",
      "10/10 - 1s - loss: 0.0795 - accuracy: 0.9537 - f1_m: 0.9578 - precision_m: 0.9578 - recall_m: 0.9578 - val_loss: 0.2656 - val_accuracy: 0.9339 - val_f1_m: 0.9344 - val_precision_m: 0.9344 - val_recall_m: 0.9344 - 822ms/epoch - 82ms/step\n"
     ]
    },
    {
     "name": "stdout",
     "output_type": "stream",
     "text": [
      "Epoch 67/100\n",
      "10/10 - 1s - loss: 0.0610 - accuracy: 0.9666 - f1_m: 0.9695 - precision_m: 0.9695 - recall_m: 0.9695 - val_loss: 0.2561 - val_accuracy: 0.9259 - val_f1_m: 0.9264 - val_precision_m: 0.9264 - val_recall_m: 0.9264 - 872ms/epoch - 87ms/step\n",
      "Epoch 68/100\n",
      "10/10 - 1s - loss: 0.0713 - accuracy: 0.9623 - f1_m: 0.9656 - precision_m: 0.9656 - recall_m: 0.9656 - val_loss: 0.3586 - val_accuracy: 0.9399 - val_f1_m: 0.9401 - val_precision_m: 0.9401 - val_recall_m: 0.9401 - 782ms/epoch - 78ms/step\n",
      "Epoch 69/100\n",
      "10/10 - 1s - loss: 0.0690 - accuracy: 0.9734 - f1_m: 0.9758 - precision_m: 0.9758 - recall_m: 0.9758 - val_loss: 0.2623 - val_accuracy: 0.9178 - val_f1_m: 0.9184 - val_precision_m: 0.9184 - val_recall_m: 0.9184 - 805ms/epoch - 80ms/step\n",
      "Epoch 70/100\n",
      "10/10 - 1s - loss: 0.0594 - accuracy: 0.9743 - f1_m: 0.9766 - precision_m: 0.9766 - recall_m: 0.9766 - val_loss: 0.2832 - val_accuracy: 0.9279 - val_f1_m: 0.9281 - val_precision_m: 0.9281 - val_recall_m: 0.9281 - 730ms/epoch - 73ms/step\n",
      "Epoch 71/100\n",
      "10/10 - 1s - loss: 0.0617 - accuracy: 0.9769 - f1_m: 0.9730 - precision_m: 0.9730 - recall_m: 0.9730 - val_loss: 0.2977 - val_accuracy: 0.9259 - val_f1_m: 0.9262 - val_precision_m: 0.9262 - val_recall_m: 0.9262 - 788ms/epoch - 79ms/step\n",
      "Epoch 72/100\n",
      "10/10 - 1s - loss: 0.0902 - accuracy: 0.9614 - f1_m: 0.9648 - precision_m: 0.9648 - recall_m: 0.9648 - val_loss: 0.2882 - val_accuracy: 0.9259 - val_f1_m: 0.9262 - val_precision_m: 0.9262 - val_recall_m: 0.9262 - 751ms/epoch - 75ms/step\n",
      "Epoch 73/100\n",
      "10/10 - 1s - loss: 0.0825 - accuracy: 0.9623 - f1_m: 0.9539 - precision_m: 0.9539 - recall_m: 0.9539 - val_loss: 0.2782 - val_accuracy: 0.9218 - val_f1_m: 0.9221 - val_precision_m: 0.9221 - val_recall_m: 0.9221 - 874ms/epoch - 87ms/step\n",
      "Epoch 74/100\n",
      "10/10 - 1s - loss: 0.0626 - accuracy: 0.9743 - f1_m: 0.9707 - precision_m: 0.9707 - recall_m: 0.9707 - val_loss: 0.3159 - val_accuracy: 0.9178 - val_f1_m: 0.9186 - val_precision_m: 0.9186 - val_recall_m: 0.9186 - 878ms/epoch - 88ms/step\n",
      "Epoch 75/100\n",
      "10/10 - 1s - loss: 0.0726 - accuracy: 0.9692 - f1_m: 0.9660 - precision_m: 0.9660 - recall_m: 0.9660 - val_loss: 0.3007 - val_accuracy: 0.9279 - val_f1_m: 0.9281 - val_precision_m: 0.9281 - val_recall_m: 0.9281 - 853ms/epoch - 85ms/step\n",
      "Epoch 76/100\n",
      "10/10 - 1s - loss: 0.0656 - accuracy: 0.9717 - f1_m: 0.9624 - precision_m: 0.9624 - recall_m: 0.9624 - val_loss: 0.2869 - val_accuracy: 0.9238 - val_f1_m: 0.9242 - val_precision_m: 0.9242 - val_recall_m: 0.9242 - 840ms/epoch - 84ms/step\n",
      "Epoch 77/100\n",
      "10/10 - 1s - loss: 0.0606 - accuracy: 0.9743 - f1_m: 0.9766 - precision_m: 0.9766 - recall_m: 0.9766 - val_loss: 0.3017 - val_accuracy: 0.9279 - val_f1_m: 0.9281 - val_precision_m: 0.9281 - val_recall_m: 0.9281 - 829ms/epoch - 83ms/step\n",
      "Epoch 78/100\n",
      "10/10 - 1s - loss: 0.0744 - accuracy: 0.9726 - f1_m: 0.9750 - precision_m: 0.9750 - recall_m: 0.9750 - val_loss: 0.2827 - val_accuracy: 0.9158 - val_f1_m: 0.9164 - val_precision_m: 0.9164 - val_recall_m: 0.9164 - 807ms/epoch - 81ms/step\n",
      "Epoch 79/100\n",
      "10/10 - 1s - loss: 0.0594 - accuracy: 0.9717 - f1_m: 0.9683 - precision_m: 0.9683 - recall_m: 0.9683 - val_loss: 0.3143 - val_accuracy: 0.9259 - val_f1_m: 0.9262 - val_precision_m: 0.9262 - val_recall_m: 0.9262 - 805ms/epoch - 81ms/step\n",
      "Epoch 80/100\n",
      "10/10 - 1s - loss: 0.0717 - accuracy: 0.9666 - f1_m: 0.9695 - precision_m: 0.9695 - recall_m: 0.9695 - val_loss: 0.3751 - val_accuracy: 0.9198 - val_f1_m: 0.9203 - val_precision_m: 0.9203 - val_recall_m: 0.9203 - 760ms/epoch - 76ms/step\n",
      "Epoch 81/100\n",
      "10/10 - 1s - loss: 0.0697 - accuracy: 0.9657 - f1_m: 0.9687 - precision_m: 0.9688 - recall_m: 0.9688 - val_loss: 0.3378 - val_accuracy: 0.9198 - val_f1_m: 0.9201 - val_precision_m: 0.9201 - val_recall_m: 0.9201 - 831ms/epoch - 83ms/step\n",
      "Epoch 82/100\n",
      "10/10 - 1s - loss: 0.0631 - accuracy: 0.9683 - f1_m: 0.9711 - precision_m: 0.9711 - recall_m: 0.9711 - val_loss: 0.3266 - val_accuracy: 0.9158 - val_f1_m: 0.9164 - val_precision_m: 0.9164 - val_recall_m: 0.9164 - 796ms/epoch - 80ms/step\n",
      "Epoch 83/100\n",
      "10/10 - 1s - loss: 0.0653 - accuracy: 0.9769 - f1_m: 0.9789 - precision_m: 0.9789 - recall_m: 0.9789 - val_loss: 0.4498 - val_accuracy: 0.9319 - val_f1_m: 0.9320 - val_precision_m: 0.9320 - val_recall_m: 0.9320 - 795ms/epoch - 79ms/step\n",
      "Epoch 84/100\n",
      "10/10 - 1s - loss: 0.0529 - accuracy: 0.9769 - f1_m: 0.9730 - precision_m: 0.9730 - recall_m: 0.9730 - val_loss: 0.3089 - val_accuracy: 0.9198 - val_f1_m: 0.9201 - val_precision_m: 0.9201 - val_recall_m: 0.9201 - 836ms/epoch - 84ms/step\n",
      "Epoch 85/100\n",
      "10/10 - 1s - loss: 0.0691 - accuracy: 0.9674 - f1_m: 0.9703 - precision_m: 0.9703 - recall_m: 0.9703 - val_loss: 0.3360 - val_accuracy: 0.9279 - val_f1_m: 0.9279 - val_precision_m: 0.9279 - val_recall_m: 0.9279 - 797ms/epoch - 80ms/step\n",
      "Epoch 86/100\n",
      "10/10 - 1s - loss: 0.0671 - accuracy: 0.9674 - f1_m: 0.9644 - precision_m: 0.9644 - recall_m: 0.9644 - val_loss: 0.2994 - val_accuracy: 0.9319 - val_f1_m: 0.9320 - val_precision_m: 0.9320 - val_recall_m: 0.9320 - 800ms/epoch - 80ms/step\n",
      "Epoch 87/100\n",
      "10/10 - 1s - loss: 0.0603 - accuracy: 0.9786 - f1_m: 0.9805 - precision_m: 0.9805 - recall_m: 0.9805 - val_loss: 0.3000 - val_accuracy: 0.9218 - val_f1_m: 0.9221 - val_precision_m: 0.9221 - val_recall_m: 0.9221 - 822ms/epoch - 82ms/step\n",
      "Epoch 88/100\n",
      "10/10 - 1s - loss: 0.0723 - accuracy: 0.9751 - f1_m: 0.9715 - precision_m: 0.9715 - recall_m: 0.9715 - val_loss: 0.2980 - val_accuracy: 0.9259 - val_f1_m: 0.9262 - val_precision_m: 0.9262 - val_recall_m: 0.9262 - 831ms/epoch - 83ms/step\n",
      "Epoch 89/100\n",
      "10/10 - 1s - loss: 0.0739 - accuracy: 0.9692 - f1_m: 0.9719 - precision_m: 0.9719 - recall_m: 0.9719 - val_loss: 0.2753 - val_accuracy: 0.9299 - val_f1_m: 0.9301 - val_precision_m: 0.9301 - val_recall_m: 0.9301 - 819ms/epoch - 82ms/step\n",
      "Epoch 90/100\n",
      "10/10 - 1s - loss: 0.0552 - accuracy: 0.9760 - f1_m: 0.9781 - precision_m: 0.9781 - recall_m: 0.9781 - val_loss: 0.3739 - val_accuracy: 0.9299 - val_f1_m: 0.9303 - val_precision_m: 0.9303 - val_recall_m: 0.9303 - 817ms/epoch - 82ms/step\n",
      "Epoch 91/100\n",
      "10/10 - 1s - loss: 0.0591 - accuracy: 0.9726 - f1_m: 0.9750 - precision_m: 0.9750 - recall_m: 0.9750 - val_loss: 0.3188 - val_accuracy: 0.9259 - val_f1_m: 0.9264 - val_precision_m: 0.9264 - val_recall_m: 0.9264 - 803ms/epoch - 80ms/step\n",
      "Epoch 92/100\n",
      "10/10 - 1s - loss: 0.0569 - accuracy: 0.9786 - f1_m: 0.9805 - precision_m: 0.9805 - recall_m: 0.9805 - val_loss: 0.3262 - val_accuracy: 0.9279 - val_f1_m: 0.9284 - val_precision_m: 0.9284 - val_recall_m: 0.9284 - 824ms/epoch - 82ms/step\n",
      "Epoch 93/100\n",
      "10/10 - 1s - loss: 0.0591 - accuracy: 0.9751 - f1_m: 0.9773 - precision_m: 0.9773 - recall_m: 0.9773 - val_loss: 0.3784 - val_accuracy: 0.9279 - val_f1_m: 0.9284 - val_precision_m: 0.9284 - val_recall_m: 0.9284 - 800ms/epoch - 80ms/step\n",
      "Epoch 94/100\n",
      "10/10 - 1s - loss: 0.0485 - accuracy: 0.9837 - f1_m: 0.9852 - precision_m: 0.9852 - recall_m: 0.9852 - val_loss: 0.3237 - val_accuracy: 0.9279 - val_f1_m: 0.9284 - val_precision_m: 0.9284 - val_recall_m: 0.9284 - 842ms/epoch - 84ms/step\n",
      "Epoch 95/100\n",
      "10/10 - 1s - loss: 0.0561 - accuracy: 0.9829 - f1_m: 0.9785 - precision_m: 0.9785 - recall_m: 0.9785 - val_loss: 0.3428 - val_accuracy: 0.9259 - val_f1_m: 0.9264 - val_precision_m: 0.9264 - val_recall_m: 0.9264 - 858ms/epoch - 86ms/step\n",
      "Epoch 96/100\n",
      "10/10 - 1s - loss: 0.0655 - accuracy: 0.9777 - f1_m: 0.9797 - precision_m: 0.9797 - recall_m: 0.9797 - val_loss: 0.4258 - val_accuracy: 0.9319 - val_f1_m: 0.9323 - val_precision_m: 0.9323 - val_recall_m: 0.9323 - 845ms/epoch - 84ms/step\n",
      "Epoch 97/100\n",
      "10/10 - 1s - loss: 0.0511 - accuracy: 0.9769 - f1_m: 0.9789 - precision_m: 0.9789 - recall_m: 0.9789 - val_loss: 0.4202 - val_accuracy: 0.9279 - val_f1_m: 0.9284 - val_precision_m: 0.9284 - val_recall_m: 0.9284 - 767ms/epoch - 77ms/step\n",
      "Epoch 98/100\n",
      "10/10 - 1s - loss: 0.0574 - accuracy: 0.9786 - f1_m: 0.9805 - precision_m: 0.9805 - recall_m: 0.9805 - val_loss: 0.3676 - val_accuracy: 0.9279 - val_f1_m: 0.9281 - val_precision_m: 0.9281 - val_recall_m: 0.9281 - 812ms/epoch - 81ms/step\n",
      "Epoch 99/100\n",
      "10/10 - 1s - loss: 0.0520 - accuracy: 0.9803 - f1_m: 0.9820 - precision_m: 0.9820 - recall_m: 0.9820 - val_loss: 0.2971 - val_accuracy: 0.9238 - val_f1_m: 0.9242 - val_precision_m: 0.9242 - val_recall_m: 0.9242 - 782ms/epoch - 78ms/step\n"
     ]
    },
    {
     "name": "stdout",
     "output_type": "stream",
     "text": [
      "Epoch 100/100\n",
      "10/10 - 1s - loss: 0.0577 - accuracy: 0.9777 - f1_m: 0.9797 - precision_m: 0.9797 - recall_m: 0.9797 - val_loss: 0.3036 - val_accuracy: 0.9339 - val_f1_m: 0.9342 - val_precision_m: 0.9342 - val_recall_m: 0.9342 - 741ms/epoch - 74ms/step\n",
      "16/16 [==============================] - 0s 27ms/step - loss: 0.3036 - accuracy: 0.9339 - f1_m: 0.9329 - precision_m: 0.9329 - recall_m: 0.9329\n",
      "Loss: 0.304\n",
      "Accuracy: 0.934\n"
     ]
    }
   ],
   "source": [
    "# Max Norm Constraints w/Dropout\n",
    "\n",
    "# Initializing the model\n",
    "model = Sequential()\n",
    "# Defining a convolutional layer\n",
    "model.add(Conv2D(64, kernel_size=(3, 3), activation='relu', input_shape=(input_width, input_height, input_depth)))\n",
    "model.add(MaxPooling2D(pool_size=(2, 2)))\n",
    "model.add(Dropout(dropout_rate))\n",
    "# We add our classificator\n",
    "model.add(Flatten())\n",
    "model.add(Dense(128, activation='relu', kernel_constraint=max_norm(3.)))\n",
    "model.add(Dropout(dropout_rate * 2))\n",
    "model.add(Dense(2, activation='softmax'))\n",
    "# Compiling the model\n",
    "model.compile(loss='categorical_crossentropy',\n",
    "              optimizer=Adam(learning_rate=learning_rate, decay=1e-6),\n",
    "              metrics=['accuracy', f1_m, precision_m, recall_m])\n",
    "# Training of the model\n",
    "model.fit(X_train, to_categorical(Y_train),\n",
    "          batch_size=batch_size,\n",
    "          shuffle=True,\n",
    "          epochs=num_epochs,\n",
    "          verbose=2,\n",
    "          validation_data=(X_test, to_categorical(Y_test)))\n",
    "# Evaluation of the model\n",
    "scores = model.evaluate(X_test, to_categorical(Y_test))\n",
    "print('Loss: %.3f' % scores[0])\n",
    "print('Accuracy: %.3f' % scores[1])"
   ]
  },
  {
   "cell_type": "code",
   "execution_count": 77,
   "metadata": {},
   "outputs": [
    {
     "data": {
      "text/plain": [
       "array([[ 82,  18],\n",
       "       [ 15, 384]])"
      ]
     },
     "execution_count": 77,
     "metadata": {},
     "output_type": "execute_result"
    }
   ],
   "source": [
    "Y_pred = model.predict(X_test)\n",
    "\n",
    "# https://stackoverflow.com/questions/46953967/multilabel-indicator-is-not-supported-for-confusion-matrix\n",
    "matrix = confusion_matrix(Y_test, Y_pred.argmax(axis=1))\n",
    "matrix"
   ]
  },
  {
   "cell_type": "code",
   "execution_count": 116,
   "metadata": {},
   "outputs": [
    {
     "data": {
      "image/png": "[encoded data removed]",
      "text/plain": [
       "<Figure size 288x288 with 1 Axes>"
      ]
     },
     "metadata": {},
     "output_type": "display_data"
    }
   ],
   "source": [
    "#https://stackoverflow.com/questions/35572000/how-can-i-plot-a-confusion-matrix\n",
    "#https://stackoverflow.com/questions/29647749/seaborn-showing-scientific-notation-in-heatmap-for-3-digit-numbers\n",
    "#https://www.tutorialspoint.com/how-to-hide-the-colorbar-of-a-seaborn-heatmap\n",
    "#https://www.delftstack.com/howto/seaborn/set-axis-labels-seaborn-python/\n",
    "#http://seaborn.pydata.org/tutorial/color_palettes.html\n",
    "\n",
    "df_cm = pd.DataFrame(matrix, range(2), range(2))\n",
    "plt.figure(figsize=(4,4))\n",
    "sn.set(font_scale=1.5) # label size\n",
    "p = sn.heatmap(df_cm, fmt='.3g', annot=True, annot_kws={\"size\": 18}, cbar=False, cmap=\"icefire\")\n",
    "p.set_xlabel(\"Predicted\", fontsize = 16)\n",
    "p.set_ylabel(\"Truth\", fontsize = 16)\n",
    "plt.title('Model Confusion Matrix')\n",
    "plt.show()"
   ]
  }
 ],
 "metadata": {
  "colab": {
   "collapsed_sections": [],
   "name": "CPSC393_Final_Project.ipynb",
   "provenance": []
  },
  "kernelspec": {
   "display_name": "Python 3 (ipykernel)",
   "language": "python",
   "name": "python3"
  },
  "language_info": {
   "codemirror_mode": {
    "name": "ipython",
    "version": 3
   },
   "file_extension": ".py",
   "mimetype": "text/x-python",
   "name": "python",
   "nbconvert_exporter": "python",
   "pygments_lexer": "ipython3",
   "version": "3.8.13"
  }
 },
 "nbformat": 4,
 "nbformat_minor": 1
}
